{
  "cells": [
    {
      "cell_type": "markdown",
      "metadata": {
        "id": "view-in-github",
        "colab_type": "text"
      },
      "source": [
        "<a href=\"https://colab.research.google.com/github/akhilpenthala/jcomp2/blob/main/Copy_of_Welcome_To_Colaboratory.ipynb\" target=\"_parent\"><img src=\"https://colab.research.google.com/assets/colab-badge.svg\" alt=\"Open In Colab\"/></a>"
      ]
    },
    {
      "cell_type": "code",
      "source": [
        "# importing required packages\n",
        "import numpy as np\n",
        "import pandas as pd\n",
        "import matplotlib.pyplot as plt\n",
        "import math"
      ],
      "metadata": {
        "id": "MKOQbk8rWcRV"
      },
      "execution_count": 3,
      "outputs": []
    },
    {
      "cell_type": "code",
      "source": [
        "import pandas as pd\n",
        "data=pd.read_csv('/content/jcompexcel.csv')\n",
        "data\n",
        "y=data['Power']\n",
        "x1=data['Speed']\n",
        "x2=data['Angle']\n",
        "ymean=[]\n",
        "def linear(b0,b1,b2):\n",
        "  sum=0;\n",
        "  ybar=[]\n",
        "  ypp=[]\n",
        "  for i in range(0,len(x1)):\n",
        "    ybar.append(b0+b1*int(x1[i])+b2*int(x2[i]))\n",
        "  for i in range(0,len(x1)):\n",
        "    ypp.append((y[i]-ybar[i])**2)\n",
        "  for i in range(0,len(x1)):\n",
        "    sum=sum+ypp[i]\n",
        "  ymean.append(sum/len(x1))\n",
        "for i in range(0,100):\n",
        "  linear(i,i+2,i+4) \n",
        "print(ymean)\n",
        "if(ymean[0]<ymean[1]):\n",
        "  result=ymean[0]\n",
        "else:\n",
        "  result=ymean[1]\n",
        "for i in range(0,len(ymean)):\n",
        "  if(result>ymean[i]):\n",
        "    result=ymen[i]\n",
        "    \n",
        "print(\"the less mean square error is\",result)\n"
      ],
      "metadata": {
        "id": "GkwwuWeRWfyx",
        "outputId": "774a83e0-4f44-4531-8ef9-b58e40b36bbe",
        "colab": {
          "base_uri": "https://localhost:8080/"
        }
      },
      "execution_count": 14,
      "outputs": [
        {
          "output_type": "stream",
          "name": "stdout",
          "text": [
            "[281.53333333333336, 575.6666666666666, 1002.0666666666667, 1560.7333333333333, 2251.6666666666665, 3074.866666666667, 4030.3333333333335, 5118.066666666667, 6338.066666666667, 7690.333333333333, 9174.866666666667, 10791.666666666666, 12540.733333333334, 14422.066666666668, 16435.666666666668, 18581.533333333333, 20859.666666666668, 23270.066666666666, 25812.733333333334, 28487.666666666668, 31294.866666666665, 34234.333333333336, 37306.066666666666, 40510.066666666666, 43846.333333333336, 47314.86666666667, 50915.666666666664, 54648.73333333333, 58514.066666666666, 62511.666666666664, 66641.53333333334, 70903.66666666667, 75298.06666666667, 79824.73333333334, 84483.66666666667, 89274.86666666667, 94198.33333333333, 99254.06666666667, 104442.06666666667, 109762.33333333333, 115214.86666666667, 120799.66666666667, 126516.73333333334, 132366.06666666668, 138347.66666666666, 144461.53333333333, 150707.66666666666, 157086.06666666668, 163596.73333333334, 170239.66666666666, 177014.86666666667, 183922.33333333334, 190962.06666666668, 198134.06666666668, 205438.33333333334, 212874.86666666667, 220443.66666666666, 228144.73333333334, 235978.06666666668, 243943.66666666666, 252041.53333333333, 260271.66666666666, 268634.06666666665, 277128.73333333334, 285755.6666666667, 294514.86666666664, 303406.3333333333, 312430.06666666665, 321586.06666666665, 330874.3333333333, 340294.86666666664, 349847.6666666667, 359532.73333333334, 369350.06666666665, 379299.6666666667, 389381.5333333333, 399595.6666666667, 409942.06666666665, 420420.73333333334, 431031.6666666667, 441774.86666666664, 452650.3333333333, 463658.06666666665, 474798.06666666665, 486070.3333333333, 497474.86666666664, 509011.6666666667, 520680.73333333334, 532482.0666666667, 544415.6666666666, 556481.5333333333, 568679.6666666666, 581010.0666666667, 593472.7333333333, 606067.6666666666, 618794.8666666667, 631654.3333333334, 644646.0666666667, 657770.0666666667, 671026.3333333334]\n",
            "the less mean square error is 281.53333333333336\n"
          ]
        }
      ]
    },
    {
      "cell_type": "code",
      "source": [
        "d=pd.read_csv('/content/jcompexcel.csv')\n",
        "x=d.iloc[:,0:2]\n",
        "y=d.iloc[:,2:3]"
      ],
      "metadata": {
        "id": "-ybT7zBlXZmL"
      },
      "execution_count": 5,
      "outputs": []
    },
    {
      "cell_type": "code",
      "source": [
        "from sklearn.model_selection import train_test_split\n",
        "x_train,x_test,y_train,y_test=train_test_split(x,y,test_size=0.1,random_state=15)"
      ],
      "metadata": {
        "id": "DkuyvCcEWmbm"
      },
      "execution_count": 6,
      "outputs": []
    },
    {
      "cell_type": "code",
      "source": [
        "print(x_train)\n",
        "print(x_test)"
      ],
      "metadata": {
        "id": "z0Jo7koEWrec",
        "outputId": "dd501851-5873-4b52-ad37-620a0f512425",
        "colab": {
          "base_uri": "https://localhost:8080/"
        }
      },
      "execution_count": 7,
      "outputs": [
        {
          "output_type": "stream",
          "name": "stdout",
          "text": [
            "    Speed  Angle\n",
            "9       6      0\n",
            "4       2      0\n",
            "1       2      5\n",
            "6       7      5\n",
            "11      9      5\n",
            "3       1      2\n",
            "10      8     -5\n",
            "0       1     -5\n",
            "7       6     -2\n",
            "13      8      2\n",
            "12     10     -2\n",
            "5       6     -5\n",
            "8       7      2\n",
            "    Speed  Angle\n",
            "14      9      0\n",
            "2       3     -2\n"
          ]
        }
      ]
    },
    {
      "cell_type": "code",
      "source": [
        "print(y_train)\n",
        "print(y_test)"
      ],
      "metadata": {
        "id": "ZTNl5FbLWyFI",
        "outputId": "0643aebc-97a3-4812-99d5-83b51d2e1907",
        "colab": {
          "base_uri": "https://localhost:8080/"
        }
      },
      "execution_count": 8,
      "outputs": [
        {
          "output_type": "stream",
          "name": "stdout",
          "text": [
            "    Power\n",
            "9       7\n",
            "4       7\n",
            "1       3\n",
            "6       5\n",
            "11      5\n",
            "3       5\n",
            "10      5\n",
            "0       3\n",
            "7       3\n",
            "13      3\n",
            "12      3\n",
            "5       5\n",
            "8       3\n",
            "    Power\n",
            "14      5\n",
            "2       5\n"
          ]
        }
      ]
    },
    {
      "cell_type": "code",
      "source": [
        "from sklearn.tree import DecisionTreeClassifier\n",
        "from sklearn.metrics import accuracy_score\n",
        "dt=DecisionTreeClassifier()\n",
        "cc=dt.fit(x_train,y_train)\n",
        "yt=cc.predict(x_test)\n",
        "print(accuracy_score(yt,y_test))\n"
      ],
      "metadata": {
        "id": "Ky9NAun7WzwH",
        "outputId": "116949f4-9d68-402e-b1b2-07149528e5a2",
        "colab": {
          "base_uri": "https://localhost:8080/"
        }
      },
      "execution_count": 17,
      "outputs": [
        {
          "output_type": "stream",
          "name": "stdout",
          "text": [
            "0.5\n"
          ]
        }
      ]
    },
    {
      "cell_type": "code",
      "source": [
        "from sklearn import tree\n",
        "tree.plot_tree(cc)"
      ],
      "metadata": {
        "colab": {
          "base_uri": "https://localhost:8080/",
          "height": 578
        },
        "id": "cpkh5au0tHle",
        "outputId": "f01197bd-477d-4206-b319-0a8d23b49b6a"
      },
      "execution_count": 18,
      "outputs": [
        {
          "output_type": "execute_result",
          "data": {
            "text/plain": [
              "[Text(0.5, 0.9375, 'X[0] <= 9.5\\ngini = 0.615\\nsamples = 13\\nvalue = [6, 5, 2]'),\n",
              " Text(0.4230769230769231, 0.8125, 'X[0] <= 8.5\\ngini = 0.625\\nsamples = 12\\nvalue = [5, 5, 2]'),\n",
              " Text(0.34615384615384615, 0.6875, 'X[1] <= -3.5\\ngini = 0.628\\nsamples = 11\\nvalue = [5, 4, 2]'),\n",
              " Text(0.15384615384615385, 0.5625, 'X[0] <= 3.5\\ngini = 0.444\\nsamples = 3\\nvalue = [1, 2, 0]'),\n",
              " Text(0.07692307692307693, 0.4375, 'gini = 0.0\\nsamples = 1\\nvalue = [1, 0, 0]'),\n",
              " Text(0.23076923076923078, 0.4375, 'gini = 0.0\\nsamples = 2\\nvalue = [0, 2, 0]'),\n",
              " Text(0.5384615384615384, 0.5625, 'X[1] <= 1.0\\ngini = 0.625\\nsamples = 8\\nvalue = [4, 2, 2]'),\n",
              " Text(0.38461538461538464, 0.4375, 'X[1] <= -1.0\\ngini = 0.444\\nsamples = 3\\nvalue = [1, 0, 2]'),\n",
              " Text(0.3076923076923077, 0.3125, 'gini = 0.0\\nsamples = 1\\nvalue = [1, 0, 0]'),\n",
              " Text(0.46153846153846156, 0.3125, 'gini = 0.0\\nsamples = 2\\nvalue = [0, 0, 2]'),\n",
              " Text(0.6923076923076923, 0.4375, 'X[0] <= 1.5\\ngini = 0.48\\nsamples = 5\\nvalue = [3, 2, 0]'),\n",
              " Text(0.6153846153846154, 0.3125, 'gini = 0.0\\nsamples = 1\\nvalue = [0, 1, 0]'),\n",
              " Text(0.7692307692307693, 0.3125, 'X[1] <= 3.5\\ngini = 0.375\\nsamples = 4\\nvalue = [3, 1, 0]'),\n",
              " Text(0.6923076923076923, 0.1875, 'gini = 0.0\\nsamples = 2\\nvalue = [2, 0, 0]'),\n",
              " Text(0.8461538461538461, 0.1875, 'X[0] <= 4.5\\ngini = 0.5\\nsamples = 2\\nvalue = [1, 1, 0]'),\n",
              " Text(0.7692307692307693, 0.0625, 'gini = 0.0\\nsamples = 1\\nvalue = [1, 0, 0]'),\n",
              " Text(0.9230769230769231, 0.0625, 'gini = 0.0\\nsamples = 1\\nvalue = [0, 1, 0]'),\n",
              " Text(0.5, 0.6875, 'gini = 0.0\\nsamples = 1\\nvalue = [0, 1, 0]'),\n",
              " Text(0.5769230769230769, 0.8125, 'gini = 0.0\\nsamples = 1\\nvalue = [1, 0, 0]')]"
            ]
          },
          "metadata": {},
          "execution_count": 18
        },
        {
          "output_type": "display_data",
          "data": {
            "text/plain": [
              "<Figure size 432x288 with 1 Axes>"
            ],
            "image/png": "[encoded data removed]"
          },
          "metadata": {
            "needs_background": "light"
          }
        }
      ]
    },
    {
      "cell_type": "code",
      "source": [
        "#support vector machine\n",
        "from sklearn import svm\n",
        "from sklearn.metrics import accuracy_score\n",
        "cc=svm.SVC(kernel='linear')\n",
        "\n",
        "cl=cc.fit(x_train,y_train)\n",
        "yp=cl.predict(x_test)\n",
        "print(yp)\n",
        "print(accuracy_score(y_test,yp))"
      ],
      "metadata": {
        "id": "t7deBU54W_oK",
        "outputId": "978b025e-20d3-438e-bb2f-4348a2e19c96",
        "colab": {
          "base_uri": "https://localhost:8080/"
        }
      },
      "execution_count": 19,
      "outputs": [
        {
          "output_type": "stream",
          "name": "stdout",
          "text": [
            "[3 3]\n",
            "0.0\n"
          ]
        },
        {
          "output_type": "stream",
          "name": "stderr",
          "text": [
            "/usr/local/lib/python3.7/dist-packages/sklearn/utils/validation.py:993: DataConversionWarning: A column-vector y was passed when a 1d array was expected. Please change the shape of y to (n_samples, ), for example using ravel().\n",
            "  y = column_or_1d(y, warn=True)\n"
          ]
        }
      ]
    },
    {
      "cell_type": "code",
      "source": [
        ""
      ],
      "metadata": {
        "id": "i4AUfxJSYjil"
      },
      "execution_count": 16,
      "outputs": []
    }
  ],
  "metadata": {
    "colab": {
      "collapsed_sections": [],
      "name": "Copy of Welcome To Colaboratory",
      "provenance": [],
      "include_colab_link": true
    },
    "kernelspec": {
      "display_name": "Python 3",
      "name": "python3"
    }
  },
  "nbformat": 4,
  "nbformat_minor": 0
}